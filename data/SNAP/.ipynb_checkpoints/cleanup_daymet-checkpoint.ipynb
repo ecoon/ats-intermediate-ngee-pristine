{
 "cells": [
  {
   "cell_type": "markdown",
   "metadata": {},
   "source": [
    "Clean up met data, doing QA and removing some extremes that make ATS cry."
   ]
  },
  {
   "cell_type": "code",
   "execution_count": 1,
   "metadata": {},
   "outputs": [
    {
     "name": "stdout",
     "output_type": "stream",
     "text": [
      "Using matplotlib backend: MacOSX\n"
     ]
    }
   ],
   "source": [
    "%matplotlib"
   ]
  },
  {
   "cell_type": "code",
   "execution_count": 11,
   "metadata": {},
   "outputs": [],
   "source": [
    "k_T = 'air temperature [K]'\n",
    "k_qSW = 'incoming shortwave radiation [W m^-2]'\n",
    "k_qLW = 'incoming longwave radiation [W m^-2]'\n",
    "k_Pr = 'precipitation rain [m s^-1]'\n",
    "k_Ps = 'precipitation snow [m SWE s^-1]'\n",
    "k_RH = 'relative humidity [-]'\n",
    "k_time = 'time [s]'\n",
    "k_U = 'wind speed [m s^-1]'"
   ]
  },
  {
   "cell_type": "code",
   "execution_count": 3,
   "metadata": {},
   "outputs": [
    {
     "name": "stderr",
     "output_type": "stream",
     "text": [
      "/Users/uec/codes/anaconda/2/5.1.0/base/lib/python2.7/site-packages/h5py/__init__.py:36: FutureWarning: Conversion of the second argument of issubdtype from `float` to `np.floating` is deprecated. In future, it will be treated as `np.float64 == np.dtype(float).type`.\n",
      "  from ._conv import register_converters as _register_converters\n"
     ]
    }
   ],
   "source": [
    "import h5py\n",
    "import numpy as np\n",
    "from matplotlib import pyplot as plt\n",
    "import colors"
   ]
  },
  {
   "cell_type": "code",
   "execution_count": 34,
   "metadata": {},
   "outputs": [],
   "source": [
    "def load_met(fname):\n",
    "    daymet = dict()\n",
    "    with h5py.File(fname,'r') as _daymet:\n",
    "        keys = _daymet.keys()\n",
    "        assert(len(_daymet[k_time][:])%365 == 0)\n",
    "        daymet_nyears = len(_daymet[k_time][:]) / 365\n",
    "\n",
    "        for k in keys:\n",
    "            if k != k_time:\n",
    "                daymet[k] = _daymet[k][:].reshape((daymet_nyears,365))\n",
    "    return daymet_nyears, daymet\n",
    "  "
   ]
  },
  {
   "cell_type": "code",
   "execution_count": 35,
   "metadata": {},
   "outputs": [],
   "source": [
    "def filter(dat, min_val, max_val, policy='avg'):\n",
    "    if policy == 'clip':\n",
    "        dat = np.where(dat > max_val, max_val, dat)\n",
    "        dat = np.where(dat < min_val, min_val, dat)\n",
    "        return dat\n",
    "    elif policy == 'avg':\n",
    "        bad_high = np.where(dat > max_val)[0]\n",
    "        for bh in bad_high:\n",
    "            bh_l = bh - 1\n",
    "            while bh_l in bad_high:\n",
    "                bh_l -= 1\n",
    "                \n",
    "            bh_u = bh + 1\n",
    "            while bh_u in bad_high:\n",
    "                bh_u += 1\n",
    "            \n",
    "            if bh_l < 0:\n",
    "                dat[bh] = dat[bh_u]\n",
    "            elif bh_u >= len(dat):\n",
    "                dat[bh] = dat[bh_l]\n",
    "            else:\n",
    "                dat[bh] = (dat[bh_u] + dat[bh_l]) / 2.\n",
    "\n",
    "        bad_low = np.where(dat < min_val)[0]\n",
    "        for bh in bad_low:\n",
    "            bh_l = bh - 1\n",
    "            while bh_l in bad_low:\n",
    "                bh_l -= 1\n",
    "                \n",
    "            bh_u = bh + 1\n",
    "            while bh_u in bad_low:\n",
    "                bh_u += 1\n",
    "            \n",
    "            if bh_l < 0:\n",
    "                dat[bh] = dat[bh_u]\n",
    "            elif bh_u >= len(dat):\n",
    "                dat[bh] = dat[bh_l]\n",
    "            else:\n",
    "                dat[bh] = (dat[bh_u] + dat[bh_l]) / 2. \n",
    "        return dat\n",
    "    else:\n",
    "        raise RuntimeError('Policy must be \"avg\" or \"clip\"')\n",
    "\n",
    "    "
   ]
  },
  {
   "cell_type": "code",
   "execution_count": 66,
   "metadata": {},
   "outputs": [],
   "source": [
    "nyears, daymet = load_met('../Barrow_Alaska/barrow1985-2015-trend-smooth.h5')\n",
    "nyears, daymet_raw = load_met('../Barrow_Alaska/barrow1985-2015-trend.h5')"
   ]
  },
  {
   "cell_type": "code",
   "execution_count": 67,
   "metadata": {},
   "outputs": [
    {
     "name": "stdout",
     "output_type": "stream",
     "text": [
      "False\n"
     ]
    }
   ],
   "source": [
    "# QA air temp\n",
    "print(np.any(daymet[k_T] < 220.) or np.any(daymet[k_T] > 300))"
   ]
  },
  {
   "cell_type": "code",
   "execution_count": 68,
   "metadata": {},
   "outputs": [
    {
     "name": "stdout",
     "output_type": "stream",
     "text": [
      "False\n",
      "False\n"
     ]
    }
   ],
   "source": [
    "# QA qSW, qLW\n",
    "print(np.any(daymet[k_qSW] < 0.) or np.any(daymet[k_qSW] > 400))\n",
    "print(np.any(daymet[k_qLW] < 0.) or np.any(daymet[k_qLW] > 400))"
   ]
  },
  {
   "cell_type": "code",
   "execution_count": 69,
   "metadata": {},
   "outputs": [
    {
     "name": "stdout",
     "output_type": "stream",
     "text": [
      "False\n"
     ]
    }
   ],
   "source": [
    "# QA RH\n",
    "print(np.any(daymet[k_RH] < 0.5) or np.any(daymet[k_RH] > 1))"
   ]
  },
  {
   "cell_type": "code",
   "execution_count": 70,
   "metadata": {},
   "outputs": [
    {
     "name": "stdout",
     "output_type": "stream",
     "text": [
      "False\n",
      "True\n",
      "[15.96770833 15.29672417 17.4875     14.11458333 18.29895833 18.33645833\n",
      " 17.25       16.81979167 17.12291667 16.271875   14.27604167 14.18229167\n",
      " 13.54583333 16.028125   32.90104167 16.7        17.378125   16.50729167\n",
      " 15.971875   17.065625   14.81875    13.27291667 13.6125     12.703125\n",
      " 15.13229167 27.18576389 13.65416667 13.04166667 17.10833333 15.09375\n",
      " 13.465625  ]\n",
      "[15.96770833 15.29672417 17.4875     14.11458333 17.09166667 14.86354167\n",
      " 17.25       16.81979167 17.12291667 16.271875   14.27604167 14.18229167\n",
      " 13.54583333 16.028125   14.42604167 16.7        17.378125   16.50729167\n",
      " 15.971875   17.065625   14.81875    13.27291667 13.6125     12.703125\n",
      " 15.13229167 14.07291667 13.65416667 13.04166667 17.10833333 15.09375\n",
      " 13.465625  ]\n"
     ]
    }
   ],
   "source": [
    "# QA Us\n",
    "print(np.any(daymet[k_U] < 0))\n",
    "print(np.any(daymet[k_U] > 16))\n",
    "\n",
    "print(np.max(daymet[k_U], 1))\n",
    "\n",
    "for i in range(nyears):\n",
    "    daymet[k_U][i] = filter(daymet[k_U][i], 0, 18, 'avg')\n",
    "\n",
    "print(np.max(daymet[k_U], 1))\n",
    "\n"
   ]
  },
  {
   "cell_type": "code",
   "execution_count": 76,
   "metadata": {},
   "outputs": [
    {
     "name": "stdout",
     "output_type": "stream",
     "text": [
      "(0.0, 0.0)\n",
      "(4.0958632916666673e-07, 4.121963094739584e-07)\n",
      "273.15129712876285\n",
      "273.1442016138715\n",
      "0.0\n"
     ]
    }
   ],
   "source": [
    "# QA precip\n",
    "\n",
    "# check min/max are reasonable\n",
    "print(daymet[k_Pr].min(), daymet[k_Ps].min())\n",
    "print(daymet[k_Pr].max(), daymet[k_Ps].max())\n",
    "\n",
    "# check air temps are consistent\n",
    "print(min([daymet[k_T][i,:][np.where(daymet[k_Pr][i,:] > 0)[0]].min() for i in range(nyears)]))\n",
    "print(max([daymet[k_T][i,:][np.where(daymet[k_Ps][i,:] > 0)[0]].max() for i in range(nyears)]))\n",
    "\n",
    "# check total snow/rain is unchanged\n",
    "P_tot1 = daymet[k_Pr] + daymet[k_Ps]\n",
    "P_tot2 = daymet_raw[k_Pr] + daymet_raw[k_Ps]\n",
    "\n",
    "print(np.linalg.norm((P_tot1 - P_tot2).ravel(), 1))\n"
   ]
  },
  {
   "cell_type": "code",
   "execution_count": 78,
   "metadata": {},
   "outputs": [],
   "source": [
    "with h5py.File('../Barrow_Alaska/barrow1985-2015-trend-smooth2.h5', 'w') as fout:\n",
    "    with h5py.File('../Barrow_Alaska/barrow1985-2015-trend-smooth.h5', 'r') as fin:\n",
    "        fout.create_dataset(k_time, data=fin[k_time])\n",
    "    for k,v in daymet.items():\n",
    "        fout.create_dataset(k, data=v.ravel())"
   ]
  },
  {
   "cell_type": "code",
   "execution_count": null,
   "metadata": {},
   "outputs": [],
   "source": []
  }
 ],
 "metadata": {
  "kernelspec": {
   "display_name": "Python 2",
   "language": "python",
   "name": "python2"
  },
  "language_info": {
   "codemirror_mode": {
    "name": "ipython",
    "version": 2
   },
   "file_extension": ".py",
   "mimetype": "text/x-python",
   "name": "python",
   "nbconvert_exporter": "python",
   "pygments_lexer": "ipython2",
   "version": "2.7.14"
  }
 },
 "nbformat": 4,
 "nbformat_minor": 2
}
