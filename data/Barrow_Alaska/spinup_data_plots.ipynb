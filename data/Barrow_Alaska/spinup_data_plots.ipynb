{
 "cells": [
  {
   "cell_type": "markdown",
   "metadata": {},
   "source": [
    "This is here simply to visualize the spinup data, which is smoothed (by J. Rowland).\n",
    "\n",
    "- 10 years (1 year data repeated 10 times)\n",
    "- weather stations aroudn Barrow, window average (average all Jan 1 across 10 years, for all days)\n",
    "- 2 meter wind speed reference height\n",
    "- adjusted for undercatch to increase snowpack to reasonable sizes\n"
   ]
  },
  {
   "cell_type": "code",
   "execution_count": 1,
   "metadata": {
    "collapsed": true
   },
   "outputs": [],
   "source": [
    "import h5py\n",
    "import numpy as np\n",
    "from matplotlib import pyplot as plt\n"
   ]
  },
  {
   "cell_type": "code",
   "execution_count": 2,
   "metadata": {
    "collapsed": true
   },
   "outputs": [],
   "source": [
    "d = h5py.File(\"spinup-10yr.h5\",'r')"
   ]
  },
  {
   "cell_type": "code",
   "execution_count": 4,
   "metadata": {
    "collapsed": false
   },
   "outputs": [
    {
     "name": "stdout",
     "output_type": "stream",
     "text": [
      "Using matplotlib backend: MacOSX\n",
      "<HDF5 dataset \"time [s]\": shape (3650,), type \"<f8\">\n",
      "<HDF5 dataset \"air temperature [K]\": shape (3650,), type \"<f8\">\n",
      "<HDF5 dataset \"incoming longwave radiation [W m^-2]\": shape (3650,), type \"<f8\">\n",
      "<HDF5 dataset \"incoming shortwave radiation [W m^-2]\": shape (3650,), type \"<f8\">\n",
      "<HDF5 dataset \"precipitation rain [m s^-1]\": shape (3650,), type \"<f8\">\n",
      "<HDF5 dataset \"precipitation snow [m SWE s^-1]\": shape (3650,), type \"<f8\">\n",
      "<HDF5 dataset \"relative humidity [-]\": shape (3650,), type \"<f8\">\n",
      "<HDF5 dataset \"time [s]\": shape (3650,), type \"<f8\">\n",
      "<HDF5 dataset \"wind speed [m s^-1]\": shape (3650,), type \"<f8\">\n"
     ]
    }
   ],
   "source": [
    "%matplotlib\n",
    "fax = plt.subplots(4,2,figsize=(10,20))\n",
    "ax = fax[1].ravel()\n",
    "\n",
    "print d['time [s]']\n",
    "\n",
    "for i,k in enumerate([k for k in d.keys() if not \"reference height\" in k]):\n",
    "    print d[k]\n",
    "    ax[i].plot(d['time [s]'][:]/86400.0/365.0, d[k][:], 'b')\n",
    "    ax[i].set_title(k)\n",
    "\n",
    "plt.show()"
   ]
  },
  {
   "cell_type": "code",
   "execution_count": null,
   "metadata": {
    "collapsed": true
   },
   "outputs": [],
   "source": []
  }
 ],
 "metadata": {
  "anaconda-cloud": {},
  "kernelspec": {
   "display_name": "Python [conda root]",
   "language": "python",
   "name": "conda-root-py"
  },
  "language_info": {
   "codemirror_mode": {
    "name": "ipython",
    "version": 2
   },
   "file_extension": ".py",
   "mimetype": "text/x-python",
   "name": "python",
   "nbconvert_exporter": "python",
   "pygments_lexer": "ipython2",
   "version": "2.7.12"
  }
 },
 "nbformat": 4,
 "nbformat_minor": 1
}
